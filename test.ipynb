{
 "cells": [
  {
   "cell_type": "code",
   "execution_count": 1,
   "id": "fdb132c4",
   "metadata": {},
   "outputs": [],
   "source": [
    "%load_ext autoreload\n",
    "%autoreload 2"
   ]
  },
  {
   "cell_type": "markdown",
   "id": "efd2b9c8",
   "metadata": {},
   "source": [
    "Simple attempt at making things work"
   ]
  },
  {
   "cell_type": "code",
   "execution_count": null,
   "id": "aa4b0ff1",
   "metadata": {},
   "outputs": [],
   "source": [
    "import os\n",
    "\n",
    "from deepsolar.data.wrappers import Sentinel2Downloader\n",
    "\n",
    "\n",
    "FOLDER = \"data\"\n",
    "\n",
    "api = Sentinel2Downloader()\n",
    "query_products = api.request_products(bbox=[13,45,14,46])\n"
   ]
  },
  {
   "cell_type": "code",
   "execution_count": 10,
   "id": "3113488b",
   "metadata": {},
   "outputs": [
    {
     "ename": "ValueError",
     "evalue": "Configuration parameters 'sh_client_id' and 'sh_client_secret' have to be set in order to authenticate with Sentinel Hub service. Check https://sentinelhub-py.readthedocs.io/en/latest/configure.html for more info.",
     "output_type": "error",
     "traceback": [
      "\u001b[31m---------------------------------------------------------------------------\u001b[39m",
      "\u001b[31mValueError\u001b[39m                                Traceback (most recent call last)",
      "\u001b[36mCell\u001b[39m\u001b[36m \u001b[39m\u001b[32mIn[10]\u001b[39m\u001b[32m, line 1\u001b[39m\n\u001b[32m----> \u001b[39m\u001b[32m1\u001b[39m \u001b[38;5;28;43mlist\u001b[39;49m\u001b[43m(\u001b[49m\u001b[43mquery_products\u001b[49m\u001b[43m)\u001b[49m\n",
      "\u001b[36mFile \u001b[39m\u001b[32m~/dls/.venv/lib/python3.12/site-packages/sentinelhub/base.py:277\u001b[39m, in \u001b[36mFeatureIterator.__next__\u001b[39m\u001b[34m(self)\u001b[39m\n\u001b[32m    272\u001b[39m \u001b[38;5;250m\u001b[39m\u001b[33;03m\"\"\"Method called to provide the next feature in iteration\u001b[39;00m\n\u001b[32m    273\u001b[39m \n\u001b[32m    274\u001b[39m \u001b[33;03m:return: the next feature\u001b[39;00m\n\u001b[32m    275\u001b[39m \u001b[33;03m\"\"\"\u001b[39;00m\n\u001b[32m    276\u001b[39m \u001b[38;5;28;01mwhile\u001b[39;00m \u001b[38;5;28mself\u001b[39m.index >= \u001b[38;5;28mlen\u001b[39m(\u001b[38;5;28mself\u001b[39m.features) \u001b[38;5;129;01mand\u001b[39;00m \u001b[38;5;129;01mnot\u001b[39;00m \u001b[38;5;28mself\u001b[39m.finished:\n\u001b[32m--> \u001b[39m\u001b[32m277\u001b[39m     new_features = \u001b[38;5;28;43mself\u001b[39;49m\u001b[43m.\u001b[49m\u001b[43m_fetch_features\u001b[49m\u001b[43m(\u001b[49m\u001b[43m)\u001b[49m\n\u001b[32m    278\u001b[39m     \u001b[38;5;28mself\u001b[39m.features.extend(new_features)\n\u001b[32m    280\u001b[39m \u001b[38;5;28;01mif\u001b[39;00m \u001b[38;5;28mself\u001b[39m.index < \u001b[38;5;28mlen\u001b[39m(\u001b[38;5;28mself\u001b[39m.features):\n",
      "\u001b[36mFile \u001b[39m\u001b[32m~/dls/.venv/lib/python3.12/site-packages/sentinelhub/api/catalog.py:245\u001b[39m, in \u001b[36mCatalogSearchIterator._fetch_features\u001b[39m\u001b[34m(self)\u001b[39m\n\u001b[32m    242\u001b[39m \u001b[38;5;250m\u001b[39m\u001b[33;03m\"\"\"Collects more results from the service\"\"\"\u001b[39;00m\n\u001b[32m    243\u001b[39m payload = remove_undefined({**\u001b[38;5;28mself\u001b[39m.params, \u001b[33m\"\u001b[39m\u001b[33mnext\u001b[39m\u001b[33m\"\u001b[39m: \u001b[38;5;28mself\u001b[39m.next})\n\u001b[32m--> \u001b[39m\u001b[32m245\u001b[39m results = \u001b[38;5;28;43mself\u001b[39;49m\u001b[43m.\u001b[49m\u001b[43mclient\u001b[49m\u001b[43m.\u001b[49m\u001b[43mget_json_dict\u001b[49m\u001b[43m(\u001b[49m\u001b[38;5;28;43mself\u001b[39;49m\u001b[43m.\u001b[49m\u001b[43murl\u001b[49m\u001b[43m,\u001b[49m\u001b[43m \u001b[49m\u001b[43mpost_values\u001b[49m\u001b[43m=\u001b[49m\u001b[43mpayload\u001b[49m\u001b[43m,\u001b[49m\u001b[43m \u001b[49m\u001b[43muse_session\u001b[49m\u001b[43m=\u001b[49m\u001b[38;5;28;43;01mTrue\u001b[39;49;00m\u001b[43m)\u001b[49m\n\u001b[32m    247\u001b[39m \u001b[38;5;28mself\u001b[39m.next = results[\u001b[33m\"\u001b[39m\u001b[33mcontext\u001b[39m\u001b[33m\"\u001b[39m].get(\u001b[33m\"\u001b[39m\u001b[33mnext\u001b[39m\u001b[33m\"\u001b[39m)\n\u001b[32m    248\u001b[39m new_features = results[\u001b[33m\"\u001b[39m\u001b[33mfeatures\u001b[39m\u001b[33m\"\u001b[39m]\n",
      "\u001b[36mFile \u001b[39m\u001b[32m~/dls/.venv/lib/python3.12/site-packages/sentinelhub/download/client.py:248\u001b[39m, in \u001b[36mDownloadClient.get_json_dict\u001b[39m\u001b[34m(self, url, extract_key, *args, **kwargs)\u001b[39m\n\u001b[32m    240\u001b[39m \u001b[38;5;28;01mdef\u001b[39;00m\u001b[38;5;250m \u001b[39m\u001b[34mget_json_dict\u001b[39m(\u001b[38;5;28mself\u001b[39m, url: \u001b[38;5;28mstr\u001b[39m, *args: Any, extract_key: \u001b[38;5;28mstr\u001b[39m | \u001b[38;5;28;01mNone\u001b[39;00m = \u001b[38;5;28;01mNone\u001b[39;00m, **kwargs: Any) -> JsonDict:\n\u001b[32m    241\u001b[39m \u001b[38;5;250m    \u001b[39m\u001b[33;03m\"\"\"Download request as JSON data type, failing if the result is not a dictionary\u001b[39;00m\n\u001b[32m    242\u001b[39m \n\u001b[32m    243\u001b[39m \u001b[33;03m    For other parameters see `get_json` method.\u001b[39;00m\n\u001b[32m   (...)\u001b[39m\u001b[32m    246\u001b[39m \u001b[33;03m    :param extract_key: If provided, the field is automatically extracted, checked, and returned\u001b[39;00m\n\u001b[32m    247\u001b[39m \u001b[33;03m    \"\"\"\u001b[39;00m\n\u001b[32m--> \u001b[39m\u001b[32m248\u001b[39m     response = \u001b[38;5;28;43mself\u001b[39;49m\u001b[43m.\u001b[49m\u001b[43mget_json\u001b[49m\u001b[43m(\u001b[49m\u001b[43murl\u001b[49m\u001b[43m,\u001b[49m\u001b[43m \u001b[49m\u001b[43m*\u001b[49m\u001b[43margs\u001b[49m\u001b[43m,\u001b[49m\u001b[43m \u001b[49m\u001b[43m*\u001b[49m\u001b[43m*\u001b[49m\u001b[43mkwargs\u001b[49m\u001b[43m)\u001b[49m\n\u001b[32m    250\u001b[39m     \u001b[38;5;28;01mif\u001b[39;00m \u001b[38;5;129;01mnot\u001b[39;00m \u001b[38;5;28misinstance\u001b[39m(response, \u001b[38;5;28mdict\u001b[39m):\n\u001b[32m    251\u001b[39m         \u001b[38;5;28;01mraise\u001b[39;00m MissingDataInRequestException(\n\u001b[32m    252\u001b[39m             \u001b[33mf\u001b[39m\u001b[33m\"\u001b[39m\u001b[33mResponse from \u001b[39m\u001b[38;5;132;01m{\u001b[39;00murl\u001b[38;5;132;01m}\u001b[39;00m\u001b[33m was expected to be a dictionary, but got \u001b[39m\u001b[38;5;132;01m{\u001b[39;00m\u001b[38;5;28mtype\u001b[39m(response)\u001b[38;5;132;01m}\u001b[39;00m\u001b[33m.\u001b[39m\u001b[33m\"\u001b[39m\n\u001b[32m    253\u001b[39m         )\n",
      "\u001b[36mFile \u001b[39m\u001b[32m~/dls/.venv/lib/python3.12/site-packages/sentinelhub/download/client.py:238\u001b[39m, in \u001b[36mDownloadClient.get_json\u001b[39m\u001b[34m(self, url, post_values, headers, request_type, **kwargs)\u001b[39m\n\u001b[32m    227\u001b[39m     json_headers = {\u001b[33m\"\u001b[39m\u001b[33mContent-Type\u001b[39m\u001b[33m\"\u001b[39m: MimeType.JSON.get_string(), **json_headers}\n\u001b[32m    229\u001b[39m request = DownloadRequest(\n\u001b[32m    230\u001b[39m     url=url,\n\u001b[32m    231\u001b[39m     headers=json_headers,\n\u001b[32m   (...)\u001b[39m\u001b[32m    235\u001b[39m     **kwargs,\n\u001b[32m    236\u001b[39m )\n\u001b[32m--> \u001b[39m\u001b[32m238\u001b[39m \u001b[38;5;28;01mreturn\u001b[39;00m \u001b[38;5;28;43mself\u001b[39;49m\u001b[43m.\u001b[49m\u001b[43m_single_download_decoded\u001b[49m\u001b[43m(\u001b[49m\u001b[43mrequest\u001b[49m\u001b[43m)\u001b[49m\n",
      "\u001b[36mFile \u001b[39m\u001b[32m~/dls/.venv/lib/python3.12/site-packages/sentinelhub/download/client.py:116\u001b[39m, in \u001b[36mDownloadClient._single_download_decoded\u001b[39m\u001b[34m(self, request)\u001b[39m\n\u001b[32m    114\u001b[39m \u001b[38;5;28;01mdef\u001b[39;00m\u001b[38;5;250m \u001b[39m\u001b[34m_single_download_decoded\u001b[39m(\u001b[38;5;28mself\u001b[39m, request: DownloadRequest) -> Any:\n\u001b[32m    115\u001b[39m \u001b[38;5;250m    \u001b[39m\u001b[33;03m\"\"\"Downloads a response and decodes it into data. By decoding a single response\"\"\"\u001b[39;00m\n\u001b[32m--> \u001b[39m\u001b[32m116\u001b[39m     response = \u001b[38;5;28;43mself\u001b[39;49m\u001b[43m.\u001b[49m\u001b[43m_single_download\u001b[49m\u001b[43m(\u001b[49m\u001b[43mrequest\u001b[49m\u001b[43m)\u001b[49m\n\u001b[32m    117\u001b[39m     \u001b[38;5;28;01mreturn\u001b[39;00m \u001b[38;5;28;01mNone\u001b[39;00m \u001b[38;5;28;01mif\u001b[39;00m response \u001b[38;5;129;01mis\u001b[39;00m \u001b[38;5;28;01mNone\u001b[39;00m \u001b[38;5;28;01melse\u001b[39;00m response.decode()\n",
      "\u001b[36mFile \u001b[39m\u001b[32m~/dls/.venv/lib/python3.12/site-packages/sentinelhub/download/client.py:129\u001b[39m, in \u001b[36mDownloadClient._single_download\u001b[39m\u001b[34m(self, request)\u001b[39m\n\u001b[32m    127\u001b[39m no_local_data = \u001b[38;5;28mself\u001b[39m.redownload \u001b[38;5;129;01mor\u001b[39;00m response_path \u001b[38;5;129;01mis\u001b[39;00m \u001b[38;5;28;01mNone\u001b[39;00m \u001b[38;5;129;01mor\u001b[39;00m \u001b[38;5;129;01mnot\u001b[39;00m os.path.exists(response_path)\n\u001b[32m    128\u001b[39m \u001b[38;5;28;01mif\u001b[39;00m no_local_data:\n\u001b[32m--> \u001b[39m\u001b[32m129\u001b[39m     response = \u001b[38;5;28;43mself\u001b[39;49m\u001b[43m.\u001b[49m\u001b[43m_execute_download\u001b[49m\u001b[43m(\u001b[49m\u001b[43mrequest\u001b[49m\u001b[43m)\u001b[49m\n\u001b[32m    130\u001b[39m \u001b[38;5;28;01melse\u001b[39;00m:\n\u001b[32m    131\u001b[39m     \u001b[38;5;28;01mif\u001b[39;00m \u001b[38;5;129;01mnot\u001b[39;00m request.return_data \u001b[38;5;129;01mor\u001b[39;00m response_path \u001b[38;5;129;01mis\u001b[39;00m \u001b[38;5;28;01mNone\u001b[39;00m:\n",
      "\u001b[36mFile \u001b[39m\u001b[32m~/dls/.venv/lib/python3.12/site-packages/sentinelhub/download/handlers.py:67\u001b[39m, in \u001b[36mretry_temporary_errors.<locals>.new_download_func\u001b[39m\u001b[34m(self, request)\u001b[39m\n\u001b[32m     65\u001b[39m \u001b[38;5;28;01mfor\u001b[39;00m attempt_idx \u001b[38;5;129;01min\u001b[39;00m \u001b[38;5;28mrange\u001b[39m(download_attempts):\n\u001b[32m     66\u001b[39m     \u001b[38;5;28;01mtry\u001b[39;00m:\n\u001b[32m---> \u001b[39m\u001b[32m67\u001b[39m         \u001b[38;5;28;01mreturn\u001b[39;00m \u001b[43mdownload_func\u001b[49m\u001b[43m(\u001b[49m\u001b[38;5;28;43mself\u001b[39;49m\u001b[43m,\u001b[49m\u001b[43m \u001b[49m\u001b[43mrequest\u001b[49m\u001b[43m)\u001b[49m\n\u001b[32m     69\u001b[39m     \u001b[38;5;28;01mexcept\u001b[39;00m requests.RequestException \u001b[38;5;28;01mas\u001b[39;00m exception:  \u001b[38;5;66;03m# noqa: PERF203\u001b[39;00m\n\u001b[32m     70\u001b[39m         attempts_left = download_attempts - (attempt_idx + \u001b[32m1\u001b[39m)\n",
      "\u001b[36mFile \u001b[39m\u001b[32m~/dls/.venv/lib/python3.12/site-packages/sentinelhub/download/handlers.py:40\u001b[39m, in \u001b[36mfail_user_errors.<locals>.new_download_func\u001b[39m\u001b[34m(self, request)\u001b[39m\n\u001b[32m     37\u001b[39m \u001b[38;5;129m@functools\u001b[39m.wraps(download_func)\n\u001b[32m     38\u001b[39m \u001b[38;5;28;01mdef\u001b[39;00m\u001b[38;5;250m \u001b[39m\u001b[34mnew_download_func\u001b[39m(\u001b[38;5;28mself\u001b[39m: Self, request: DownloadRequest) -> T:\n\u001b[32m     39\u001b[39m     \u001b[38;5;28;01mtry\u001b[39;00m:\n\u001b[32m---> \u001b[39m\u001b[32m40\u001b[39m         \u001b[38;5;28;01mreturn\u001b[39;00m \u001b[43mdownload_func\u001b[49m\u001b[43m(\u001b[49m\u001b[38;5;28;43mself\u001b[39;49m\u001b[43m,\u001b[49m\u001b[43m \u001b[49m\u001b[43mrequest\u001b[49m\u001b[43m)\u001b[49m\n\u001b[32m     41\u001b[39m     \u001b[38;5;28;01mexcept\u001b[39;00m requests.HTTPError \u001b[38;5;28;01mas\u001b[39;00m exception:\n\u001b[32m     42\u001b[39m         \u001b[38;5;28;01mif\u001b[39;00m (\n\u001b[32m     43\u001b[39m             exception.response.status_code < requests.status_codes.codes.INTERNAL_SERVER_ERROR\n\u001b[32m     44\u001b[39m             \u001b[38;5;129;01mand\u001b[39;00m exception.response.status_code != requests.status_codes.codes.TOO_MANY_REQUESTS\n\u001b[32m     45\u001b[39m         ):\n",
      "\u001b[36mFile \u001b[39m\u001b[32m~/dls/.venv/lib/python3.12/site-packages/sentinelhub/download/sentinelhub_client.py:90\u001b[39m, in \u001b[36mSentinelHubDownloadClient._execute_download\u001b[39m\u001b[34m(self, request)\u001b[39m\n\u001b[32m     83\u001b[39m download_attempts += \u001b[32m1\u001b[39m\n\u001b[32m     84\u001b[39m LOGGER.debug(\n\u001b[32m     85\u001b[39m     \u001b[33m\"\u001b[39m\u001b[33mSending \u001b[39m\u001b[38;5;132;01m%s\u001b[39;00m\u001b[33m request to \u001b[39m\u001b[38;5;132;01m%s\u001b[39;00m\u001b[33m. Hash of sent request is \u001b[39m\u001b[38;5;132;01m%s\u001b[39;00m\u001b[33m\"\u001b[39m,\n\u001b[32m     86\u001b[39m     request.request_type.value,\n\u001b[32m     87\u001b[39m     request.url,\n\u001b[32m     88\u001b[39m     request.get_hashed_name(),\n\u001b[32m     89\u001b[39m )\n\u001b[32m---> \u001b[39m\u001b[32m90\u001b[39m response = \u001b[38;5;28;43mself\u001b[39;49m\u001b[43m.\u001b[49m\u001b[43m_do_download\u001b[49m\u001b[43m(\u001b[49m\u001b[43mrequest\u001b[49m\u001b[43m)\u001b[49m\n\u001b[32m     92\u001b[39m \u001b[38;5;28;01mif\u001b[39;00m response.status_code == requests.status_codes.codes.TOO_MANY_REQUESTS:\n\u001b[32m     93\u001b[39m     warnings.warn(\u001b[33m\"\u001b[39m\u001b[33mDownload rate limit hit\u001b[39m\u001b[33m\"\u001b[39m, category=SHRateLimitWarning)\n",
      "\u001b[36mFile \u001b[39m\u001b[32m~/dls/.venv/lib/python3.12/site-packages/sentinelhub/download/sentinelhub_client.py:125\u001b[39m, in \u001b[36mSentinelHubDownloadClient._do_download\u001b[39m\u001b[34m(self, request)\u001b[39m\n\u001b[32m    118\u001b[39m \u001b[38;5;28;01mif\u001b[39;00m request.url \u001b[38;5;129;01mis\u001b[39;00m \u001b[38;5;28;01mNone\u001b[39;00m:\n\u001b[32m    119\u001b[39m     \u001b[38;5;28;01mraise\u001b[39;00m \u001b[38;5;167;01mValueError\u001b[39;00m(\u001b[33mf\u001b[39m\u001b[33m\"\u001b[39m\u001b[33mFaulty request \u001b[39m\u001b[38;5;132;01m{\u001b[39;00mrequest\u001b[38;5;132;01m}\u001b[39;00m\u001b[33m, no URL specified.\u001b[39m\u001b[33m\"\u001b[39m)\n\u001b[32m    121\u001b[39m \u001b[38;5;28;01mreturn\u001b[39;00m requests.request(\n\u001b[32m    122\u001b[39m     request.request_type.value,\n\u001b[32m    123\u001b[39m     url=request.url,\n\u001b[32m    124\u001b[39m     json=request.post_values,\n\u001b[32m--> \u001b[39m\u001b[32m125\u001b[39m     headers=\u001b[38;5;28;43mself\u001b[39;49m\u001b[43m.\u001b[49m\u001b[43m_prepare_headers\u001b[49m\u001b[43m(\u001b[49m\u001b[43mrequest\u001b[49m\u001b[43m)\u001b[49m,\n\u001b[32m    126\u001b[39m     timeout=\u001b[38;5;28mself\u001b[39m.config.download_timeout_seconds,\n\u001b[32m    127\u001b[39m )\n",
      "\u001b[36mFile \u001b[39m\u001b[32m~/dls/.venv/lib/python3.12/site-packages/sentinelhub/download/sentinelhub_client.py:136\u001b[39m, in \u001b[36mSentinelHubDownloadClient._prepare_headers\u001b[39m\u001b[34m(self, request)\u001b[39m\n\u001b[32m    134\u001b[39m session_headers: JsonDict = {}\n\u001b[32m    135\u001b[39m \u001b[38;5;28;01mif\u001b[39;00m request.use_session:\n\u001b[32m--> \u001b[39m\u001b[32m136\u001b[39m     session_headers = \u001b[38;5;28;43mself\u001b[39;49m\u001b[43m.\u001b[49m\u001b[43m_execute_thread_safe\u001b[49m\u001b[43m(\u001b[49m\u001b[38;5;28;43mself\u001b[39;49m\u001b[43m.\u001b[49m\u001b[43m_get_session_headers\u001b[49m\u001b[43m)\u001b[49m\n\u001b[32m    138\u001b[39m \u001b[38;5;28;01mreturn\u001b[39;00m {**SHConstants.HEADERS, **session_headers, **request.headers}\n",
      "\u001b[36mFile \u001b[39m\u001b[32m~/dls/.venv/lib/python3.12/site-packages/sentinelhub/download/sentinelhub_client.py:111\u001b[39m, in \u001b[36mSentinelHubDownloadClient._execute_thread_safe\u001b[39m\u001b[34m(self, thread_unsafe_function, *args, **kwargs)\u001b[39m\n\u001b[32m    109\u001b[39m \u001b[38;5;250m\u001b[39m\u001b[33;03m\"\"\"Executes a function inside a thread lock and handles potential errors\"\"\"\u001b[39;00m\n\u001b[32m    110\u001b[39m \u001b[38;5;28;01mif\u001b[39;00m \u001b[38;5;28mself\u001b[39m.lock \u001b[38;5;129;01mis\u001b[39;00m \u001b[38;5;28;01mNone\u001b[39;00m:\n\u001b[32m--> \u001b[39m\u001b[32m111\u001b[39m     \u001b[38;5;28;01mreturn\u001b[39;00m \u001b[43mthread_unsafe_function\u001b[49m\u001b[43m(\u001b[49m\u001b[43m*\u001b[49m\u001b[43margs\u001b[49m\u001b[43m,\u001b[49m\u001b[43m \u001b[49m\u001b[43m*\u001b[49m\u001b[43m*\u001b[49m\u001b[43mkwargs\u001b[49m\u001b[43m)\u001b[49m\n\u001b[32m    113\u001b[39m \u001b[38;5;28;01mwith\u001b[39;00m \u001b[38;5;28mself\u001b[39m.lock:\n\u001b[32m    114\u001b[39m     \u001b[38;5;28;01mreturn\u001b[39;00m thread_unsafe_function(*args, **kwargs)\n",
      "\u001b[36mFile \u001b[39m\u001b[32m~/dls/.venv/lib/python3.12/site-packages/sentinelhub/download/sentinelhub_client.py:146\u001b[39m, in \u001b[36mSentinelHubDownloadClient._get_session_headers\u001b[39m\u001b[34m(self)\u001b[39m\n\u001b[32m    140\u001b[39m \u001b[38;5;28;01mdef\u001b[39;00m\u001b[38;5;250m \u001b[39m\u001b[34m_get_session_headers\u001b[39m(\u001b[38;5;28mself\u001b[39m) -> JsonDict:\n\u001b[32m    141\u001b[39m \u001b[38;5;250m    \u001b[39m\u001b[33;03m\"\"\"Provides up-to-date session headers\u001b[39;00m\n\u001b[32m    142\u001b[39m \n\u001b[32m    143\u001b[39m \u001b[33;03m    Note that calling session_headers property triggers update if session has expired therefore this has to be\u001b[39;00m\n\u001b[32m    144\u001b[39m \u001b[33;03m    called in a thread-safe way\u001b[39;00m\n\u001b[32m    145\u001b[39m \u001b[33;03m    \"\"\"\u001b[39;00m\n\u001b[32m--> \u001b[39m\u001b[32m146\u001b[39m     \u001b[38;5;28;01mreturn\u001b[39;00m \u001b[38;5;28;43mself\u001b[39;49m\u001b[43m.\u001b[49m\u001b[43mget_session\u001b[49m\u001b[43m(\u001b[49m\u001b[43m)\u001b[49m.session_headers\n",
      "\u001b[36mFile \u001b[39m\u001b[32m~/dls/.venv/lib/python3.12/site-packages/sentinelhub/download/sentinelhub_client.py:162\u001b[39m, in \u001b[36mSentinelHubDownloadClient.get_session\u001b[39m\u001b[34m(self)\u001b[39m\n\u001b[32m    160\u001b[39m     session = SentinelHubDownloadClient._CACHED_SESSIONS[SentinelHubDownloadClient._UNIVERSAL_CACHE_KEY]\n\u001b[32m    161\u001b[39m \u001b[38;5;28;01melse\u001b[39;00m:\n\u001b[32m--> \u001b[39m\u001b[32m162\u001b[39m     session = \u001b[43mSentinelHubSession\u001b[49m\u001b[43m(\u001b[49m\u001b[43mconfig\u001b[49m\u001b[43m=\u001b[49m\u001b[38;5;28;43mself\u001b[39;49m\u001b[43m.\u001b[49m\u001b[43mconfig\u001b[49m\u001b[43m)\u001b[49m\n\u001b[32m    163\u001b[39m     SentinelHubDownloadClient._CACHED_SESSIONS[cache_key] = session\n\u001b[32m    165\u001b[39m \u001b[38;5;28;01mreturn\u001b[39;00m session\n",
      "\u001b[36mFile \u001b[39m\u001b[32m~/dls/.venv/lib/python3.12/site-packages/sentinelhub/download/session.py:67\u001b[39m, in \u001b[36mSentinelHubSession.__init__\u001b[39m\u001b[34m(self, config, refresh_before_expiry, _token)\u001b[39m\n\u001b[32m     65\u001b[39m token_fetching_required = _token \u001b[38;5;129;01mis\u001b[39;00m \u001b[38;5;28;01mNone\u001b[39;00m \u001b[38;5;129;01mor\u001b[39;00m \u001b[38;5;28mself\u001b[39m.refresh_before_expiry \u001b[38;5;129;01mis\u001b[39;00m \u001b[38;5;129;01mnot\u001b[39;00m \u001b[38;5;28;01mNone\u001b[39;00m\n\u001b[32m     66\u001b[39m \u001b[38;5;28;01mif\u001b[39;00m token_fetching_required \u001b[38;5;129;01mand\u001b[39;00m \u001b[38;5;129;01mnot\u001b[39;00m (\u001b[38;5;28mself\u001b[39m.config.sh_client_id \u001b[38;5;129;01mand\u001b[39;00m \u001b[38;5;28mself\u001b[39m.config.sh_client_secret):\n\u001b[32m---> \u001b[39m\u001b[32m67\u001b[39m     \u001b[38;5;28;01mraise\u001b[39;00m \u001b[38;5;167;01mValueError\u001b[39;00m(\n\u001b[32m     68\u001b[39m         \u001b[33m\"\u001b[39m\u001b[33mConfiguration parameters \u001b[39m\u001b[33m'\u001b[39m\u001b[33msh_client_id\u001b[39m\u001b[33m'\u001b[39m\u001b[33m and \u001b[39m\u001b[33m'\u001b[39m\u001b[33msh_client_secret\u001b[39m\u001b[33m'\u001b[39m\u001b[33m have to be set in order \u001b[39m\u001b[33m\"\u001b[39m\n\u001b[32m     69\u001b[39m         \u001b[33m\"\u001b[39m\u001b[33mto authenticate with Sentinel Hub service. Check \u001b[39m\u001b[33m\"\u001b[39m\n\u001b[32m     70\u001b[39m         \u001b[33m\"\u001b[39m\u001b[33mhttps://sentinelhub-py.readthedocs.io/en/latest/configure.html for more info.\u001b[39m\u001b[33m\"\u001b[39m\n\u001b[32m     71\u001b[39m     )\n\u001b[32m     73\u001b[39m \u001b[38;5;28mself\u001b[39m._token = \u001b[38;5;28mself\u001b[39m._collect_new_token() \u001b[38;5;28;01mif\u001b[39;00m _token \u001b[38;5;129;01mis\u001b[39;00m \u001b[38;5;28;01mNone\u001b[39;00m \u001b[38;5;28;01melse\u001b[39;00m _token\n",
      "\u001b[31mValueError\u001b[39m: Configuration parameters 'sh_client_id' and 'sh_client_secret' have to be set in order to authenticate with Sentinel Hub service. Check https://sentinelhub-py.readthedocs.io/en/latest/configure.html for more info."
     ]
    }
   ],
   "source": [
    "list(query_products)"
   ]
  },
  {
   "cell_type": "code",
   "execution_count": null,
   "id": "27a83737",
   "metadata": {},
   "outputs": [],
   "source": [
    "products = api.filter_products(sort_by=[\"cloudcoverpercentage\", \"beginposition\"], remove_offline=True)\n",
    "print(products[[\"title\", \"cloudcoverpercentage\"]].to_string())\n",
    "\n",
    "api.download(\"342c57d0-bde8-4391-90f6-a4192ba47a14\", folder)"
   ]
  },
  {
   "cell_type": "code",
   "execution_count": null,
   "id": "80c2c71a",
   "metadata": {},
   "outputs": [],
   "source": []
  }
 ],
 "metadata": {
  "kernelspec": {
   "display_name": ".venv",
   "language": "python",
   "name": "python3"
  },
  "language_info": {
   "codemirror_mode": {
    "name": "ipython",
    "version": 3
   },
   "file_extension": ".py",
   "mimetype": "text/x-python",
   "name": "python",
   "nbconvert_exporter": "python",
   "pygments_lexer": "ipython3",
   "version": "3.12.3"
  }
 },
 "nbformat": 4,
 "nbformat_minor": 5
}
